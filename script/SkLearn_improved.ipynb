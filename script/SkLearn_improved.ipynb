{
 "cells": [
  {
   "cell_type": "code",
   "execution_count": 1,
   "metadata": {},
   "outputs": [],
   "source": [
    "import geopandas\n",
    "import scipy as sp\n",
    "import pandas as pd\n",
    "import numpy as np\n",
    "import numpy \n",
    "from matplotlib import pyplot as plt\n",
    "import os\n",
    "from sklearn.model_selection import train_test_split\n",
    "from sklearn.metrics import mean_squared_error\n",
    "from sklearn.preprocessing import RobustScaler\n",
    "from sklearn.neighbors import KNeighborsRegressor"
   ]
  },
  {
   "cell_type": "code",
   "execution_count": 27,
   "metadata": {},
   "outputs": [],
   "source": [
    "os.chdir('/Users/Edward/Documents/LandPermitAnalysis/data/')"
   ]
  },
  {
   "cell_type": "code",
   "execution_count": 33,
   "metadata": {
    "scrolled": true
   },
   "outputs": [
    {
     "data": {
      "text/html": [
       "<div>\n",
       "<style scoped>\n",
       "    .dataframe tbody tr th:only-of-type {\n",
       "        vertical-align: middle;\n",
       "    }\n",
       "\n",
       "    .dataframe tbody tr th {\n",
       "        vertical-align: top;\n",
       "    }\n",
       "\n",
       "    .dataframe thead th {\n",
       "        text-align: right;\n",
       "    }\n",
       "</style>\n",
       "<table border=\"1\" class=\"dataframe\">\n",
       "  <thead>\n",
       "    <tr style=\"text-align: right;\">\n",
       "      <th></th>\n",
       "      <th>PermitNum</th>\n",
       "      <th>PermitClass</th>\n",
       "      <th>PermitClassMapped</th>\n",
       "      <th>PermitTypeMapped</th>\n",
       "      <th>PermitTypeDesc</th>\n",
       "      <th>Description</th>\n",
       "      <th>HousingUnits</th>\n",
       "      <th>HousingUnitsRemoved</th>\n",
       "      <th>HousingUnitsAdded</th>\n",
       "      <th>EstProjectCost</th>\n",
       "      <th>...</th>\n",
       "      <th>RelatedRecord</th>\n",
       "      <th>OriginalAddress1</th>\n",
       "      <th>OriginalCity</th>\n",
       "      <th>OriginalState</th>\n",
       "      <th>OriginalZip</th>\n",
       "      <th>ContractorCompanyName</th>\n",
       "      <th>Link</th>\n",
       "      <th>Latitude</th>\n",
       "      <th>Longitude</th>\n",
       "      <th>Location 1</th>\n",
       "    </tr>\n",
       "  </thead>\n",
       "  <tbody>\n",
       "    <tr>\n",
       "      <th>0</th>\n",
       "      <td>3027306-LU</td>\n",
       "      <td>Commercial</td>\n",
       "      <td>Non-Residential</td>\n",
       "      <td>Master Use Permit</td>\n",
       "      <td>NaN</td>\n",
       "      <td>[EDG Pre-sub] landlord work to modify and upgr...</td>\n",
       "      <td>NaN</td>\n",
       "      <td>NaN</td>\n",
       "      <td>NaN</td>\n",
       "      <td>NaN</td>\n",
       "      <td>...</td>\n",
       "      <td>NaN</td>\n",
       "      <td>1512 5TH AVE</td>\n",
       "      <td>SEATTLE</td>\n",
       "      <td>WA</td>\n",
       "      <td>98101.0</td>\n",
       "      <td>NaN</td>\n",
       "      <td>https://cosaccela.seattle.gov/portal/customize...</td>\n",
       "      <td>47.611197</td>\n",
       "      <td>-122.335822</td>\n",
       "      <td>1512 5TH AVE\\nSEATTLE, WA 98101\\n(47.61119722,...</td>\n",
       "    </tr>\n",
       "    <tr>\n",
       "      <th>1</th>\n",
       "      <td>3003127-LU</td>\n",
       "      <td>Multifamily</td>\n",
       "      <td>Residential</td>\n",
       "      <td>Master Use Permit</td>\n",
       "      <td>NaN</td>\n",
       "      <td>CANCELLED - DECISION EXPIRED 12/28/09 JH.  Lan...</td>\n",
       "      <td>NaN</td>\n",
       "      <td>2.0</td>\n",
       "      <td>8.0</td>\n",
       "      <td>NaN</td>\n",
       "      <td>...</td>\n",
       "      <td>NaN</td>\n",
       "      <td>619 13TH AVE E</td>\n",
       "      <td>SEATTLE</td>\n",
       "      <td>WA</td>\n",
       "      <td>98102.0</td>\n",
       "      <td>NaN</td>\n",
       "      <td>https://cosaccela.seattle.gov/portal/customize...</td>\n",
       "      <td>47.624775</td>\n",
       "      <td>-122.315974</td>\n",
       "      <td>619 13TH AVE E\\nSEATTLE, WA 98102\\n(47.6247753...</td>\n",
       "    </tr>\n",
       "    <tr>\n",
       "      <th>2</th>\n",
       "      <td>3016564-LU</td>\n",
       "      <td>Multifamily</td>\n",
       "      <td>Residential</td>\n",
       "      <td>Master Use Permit</td>\n",
       "      <td>NaN</td>\n",
       "      <td>Land Use Application to subdivide one developm...</td>\n",
       "      <td>NaN</td>\n",
       "      <td>NaN</td>\n",
       "      <td>NaN</td>\n",
       "      <td>NaN</td>\n",
       "      <td>...</td>\n",
       "      <td>NaN</td>\n",
       "      <td>3626 36TH AVE S</td>\n",
       "      <td>SEATTLE</td>\n",
       "      <td>WA</td>\n",
       "      <td>98144.0</td>\n",
       "      <td>NaN</td>\n",
       "      <td>https://cosaccela.seattle.gov/portal/customize...</td>\n",
       "      <td>47.570692</td>\n",
       "      <td>-122.287919</td>\n",
       "      <td>3626 36TH AVE S\\nSEATTLE, WA 98144\\n(47.570692...</td>\n",
       "    </tr>\n",
       "    <tr>\n",
       "      <th>3</th>\n",
       "      <td>3028041-LU</td>\n",
       "      <td>Multifamily</td>\n",
       "      <td>Residential</td>\n",
       "      <td>Master Use Permit</td>\n",
       "      <td>NaN</td>\n",
       "      <td>Land Use Application to subdivide one developm...</td>\n",
       "      <td>NaN</td>\n",
       "      <td>NaN</td>\n",
       "      <td>NaN</td>\n",
       "      <td>NaN</td>\n",
       "      <td>...</td>\n",
       "      <td>NaN</td>\n",
       "      <td>804 25TH AVE S</td>\n",
       "      <td>SEATTLE</td>\n",
       "      <td>WA</td>\n",
       "      <td>98144.0</td>\n",
       "      <td>NaN</td>\n",
       "      <td>https://cosaccela.seattle.gov/portal/customize...</td>\n",
       "      <td>47.595260</td>\n",
       "      <td>-122.299926</td>\n",
       "      <td>804 25TH AVE S\\nSEATTLE, WA 98144\\n(47.5952602...</td>\n",
       "    </tr>\n",
       "    <tr>\n",
       "      <th>4</th>\n",
       "      <td>3004979-LU</td>\n",
       "      <td>Single Family/Duplex</td>\n",
       "      <td>Residential</td>\n",
       "      <td>Master Use Permit</td>\n",
       "      <td>NaN</td>\n",
       "      <td>Shoreline substantial development to allow a t...</td>\n",
       "      <td>NaN</td>\n",
       "      <td>0.0</td>\n",
       "      <td>0.0</td>\n",
       "      <td>NaN</td>\n",
       "      <td>...</td>\n",
       "      <td>NaN</td>\n",
       "      <td>2727 FAIRVIEW AVE E</td>\n",
       "      <td>SEATTLE</td>\n",
       "      <td>WA</td>\n",
       "      <td>98102.0</td>\n",
       "      <td>NaN</td>\n",
       "      <td>https://cosaccela.seattle.gov/portal/customize...</td>\n",
       "      <td>47.644955</td>\n",
       "      <td>-122.328186</td>\n",
       "      <td>2727 FAIRVIEW AVE E\\nSEATTLE, WA 98102\\n(47.64...</td>\n",
       "    </tr>\n",
       "  </tbody>\n",
       "</table>\n",
       "<p>5 rows × 25 columns</p>\n",
       "</div>"
      ],
      "text/plain": [
       "    PermitNum           PermitClass PermitClassMapped   PermitTypeMapped  \\\n",
       "0  3027306-LU            Commercial   Non-Residential  Master Use Permit   \n",
       "1  3003127-LU           Multifamily       Residential  Master Use Permit   \n",
       "2  3016564-LU           Multifamily       Residential  Master Use Permit   \n",
       "3  3028041-LU           Multifamily       Residential  Master Use Permit   \n",
       "4  3004979-LU  Single Family/Duplex       Residential  Master Use Permit   \n",
       "\n",
       "  PermitTypeDesc                                        Description  \\\n",
       "0            NaN  [EDG Pre-sub] landlord work to modify and upgr...   \n",
       "1            NaN  CANCELLED - DECISION EXPIRED 12/28/09 JH.  Lan...   \n",
       "2            NaN  Land Use Application to subdivide one developm...   \n",
       "3            NaN  Land Use Application to subdivide one developm...   \n",
       "4            NaN  Shoreline substantial development to allow a t...   \n",
       "\n",
       "   HousingUnits  HousingUnitsRemoved  HousingUnitsAdded  EstProjectCost  ...  \\\n",
       "0           NaN                  NaN                NaN             NaN  ...   \n",
       "1           NaN                  2.0                8.0             NaN  ...   \n",
       "2           NaN                  NaN                NaN             NaN  ...   \n",
       "3           NaN                  NaN                NaN             NaN  ...   \n",
       "4           NaN                  0.0                0.0             NaN  ...   \n",
       "\n",
       "  RelatedRecord     OriginalAddress1 OriginalCity OriginalState OriginalZip  \\\n",
       "0           NaN         1512 5TH AVE      SEATTLE            WA     98101.0   \n",
       "1           NaN       619 13TH AVE E      SEATTLE            WA     98102.0   \n",
       "2           NaN      3626 36TH AVE S      SEATTLE            WA     98144.0   \n",
       "3           NaN       804 25TH AVE S      SEATTLE            WA     98144.0   \n",
       "4           NaN  2727 FAIRVIEW AVE E      SEATTLE            WA     98102.0   \n",
       "\n",
       "   ContractorCompanyName                                               Link  \\\n",
       "0                    NaN  https://cosaccela.seattle.gov/portal/customize...   \n",
       "1                    NaN  https://cosaccela.seattle.gov/portal/customize...   \n",
       "2                    NaN  https://cosaccela.seattle.gov/portal/customize...   \n",
       "3                    NaN  https://cosaccela.seattle.gov/portal/customize...   \n",
       "4                    NaN  https://cosaccela.seattle.gov/portal/customize...   \n",
       "\n",
       "    Latitude   Longitude                                         Location 1  \n",
       "0  47.611197 -122.335822  1512 5TH AVE\\nSEATTLE, WA 98101\\n(47.61119722,...  \n",
       "1  47.624775 -122.315974  619 13TH AVE E\\nSEATTLE, WA 98102\\n(47.6247753...  \n",
       "2  47.570692 -122.287919  3626 36TH AVE S\\nSEATTLE, WA 98144\\n(47.570692...  \n",
       "3  47.595260 -122.299926  804 25TH AVE S\\nSEATTLE, WA 98144\\n(47.5952602...  \n",
       "4  47.644955 -122.328186  2727 FAIRVIEW AVE E\\nSEATTLE, WA 98102\\n(47.64...  \n",
       "\n",
       "[5 rows x 25 columns]"
      ]
     },
     "execution_count": 33,
     "metadata": {},
     "output_type": "execute_result"
    }
   ],
   "source": [
    "data = pd.read_csv('Land_Use_Permits.csv').copy()\n",
    "data.head(5)"
   ]
  },
  {
   "cell_type": "code",
   "execution_count": 44,
   "metadata": {},
   "outputs": [],
   "source": [
    "data = data.dropna(axis=0, subset=['Latitude'])"
   ]
  },
  {
   "cell_type": "code",
   "execution_count": 45,
   "metadata": {},
   "outputs": [],
   "source": [
    "PermitID = []\n",
    "for row in data['PermitNum']:\n",
    "    temp = row[0:7]\n",
    "    PermitID.append(temp)\n",
    "    \n",
    "data['PermitNum'] = PermitID"
   ]
  },
  {
   "cell_type": "code",
   "execution_count": 46,
   "metadata": {},
   "outputs": [
    {
     "data": {
      "text/plain": [
       "1331"
      ]
     },
     "execution_count": 46,
     "metadata": {},
     "output_type": "execute_result"
    }
   ],
   "source": [
    "sum(data.PermitClass.isnull())"
   ]
  },
  {
   "cell_type": "code",
   "execution_count": 47,
   "metadata": {},
   "outputs": [],
   "source": [
    "data.PermitClass =data.PermitClass.replace(np.nan, 'unknown', regex=True)"
   ]
  },
  {
   "cell_type": "code",
   "execution_count": 48,
   "metadata": {},
   "outputs": [
    {
     "data": {
      "text/plain": [
       "array([0, 3, 3, ..., 0, 3, 3])"
      ]
     },
     "execution_count": 48,
     "metadata": {},
     "output_type": "execute_result"
    }
   ],
   "source": [
    "from sklearn import preprocessing\n",
    "le = preprocessing.LabelEncoder()\n",
    "le.fit(data['PermitClass'])\n",
    "le.transform(data['PermitClass']) "
   ]
  },
  {
   "cell_type": "code",
   "execution_count": 66,
   "metadata": {},
   "outputs": [],
   "source": [
    "Commercial = 0\n",
    "Multifamily = 0\n",
    "SingleFamily = 0\n",
    "Unknown = 0\n",
    "Institutional = 0 \n",
    "VacantLand = 0\n",
    "Industrial = 0\n",
    "\n",
    "for item in data.PermitClass:\n",
    "    if item == 'Commercial':\n",
    "        Commercial += 1\n",
    "    elif item == 'Multifamily':\n",
    "        Multifamily += 1\n",
    "    elif item == 'Single Family/Duplex':\n",
    "        SingleFamily += 1\n",
    "    elif item == 'unknow':\n",
    "        Unknown += 1\n",
    "    elif item == 'Institutional':\n",
    "        Institutional += 1\n",
    "    elif item == 'Vacant Land':\n",
    "        VacantLand += 1\n",
    "    else:\n",
    "        Industrial += 1\n",
    "\n",
    "x = ['Commercial', 'Multifamily', 'Single Family', 'Unknown', 'Institutional', 'Vacant Land', 'Industrial']\n",
    "y = [Commercial, Multifamily, SingleFamily, Unknown, Institutional, VacantLand, Industrial]"
   ]
  },
  {
   "cell_type": "code",
   "execution_count": 75,
   "metadata": {
    "scrolled": false
   },
   "outputs": [
    {
     "data": {
      "image/png": "[encoded data removed]",
      "text/plain": [
       "<Figure size 648x648 with 1 Axes>"
      ]
     },
     "metadata": {
      "needs_background": "light"
     },
     "output_type": "display_data"
    }
   ],
   "source": [
    "plt.bar(x,y, align='center', alpha=0.5)\n",
    "plt.rcParams[\"figure.figsize\"] =[9,9]\n",
    "plt.title(\"Permit Number and Permit Classes\")\n",
    "plt.xlabel(\"Permit Class\")\n",
    "plt.ylabel(\"Permit Number\")\n",
    "plt.grid()\n",
    "plt.show()"
   ]
  },
  {
   "cell_type": "code",
   "execution_count": 63,
   "metadata": {},
   "outputs": [
    {
     "data": {
      "text/plain": [
       "5680"
      ]
     },
     "execution_count": 63,
     "metadata": {},
     "output_type": "execute_result"
    }
   ],
   "source": []
  },
  {
   "cell_type": "code",
   "execution_count": null,
   "metadata": {},
   "outputs": [],
   "source": []
  }
 ],
 "metadata": {
  "kernelspec": {
   "display_name": "Python 3",
   "language": "python",
   "name": "python3"
  },
  "language_info": {
   "codemirror_mode": {
    "name": "ipython",
    "version": 3
   },
   "file_extension": ".py",
   "mimetype": "text/x-python",
   "name": "python",
   "nbconvert_exporter": "python",
   "pygments_lexer": "ipython3",
   "version": "3.6.8"
  }
 },
 "nbformat": 4,
 "nbformat_minor": 2
}

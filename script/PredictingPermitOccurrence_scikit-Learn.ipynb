{
 "cells": [
  {
   "cell_type": "code",
   "execution_count": 3,
   "metadata": {},
   "outputs": [],
   "source": [
    "import geopandas\n",
    "import scipy as sp\n",
    "import pandas as pd\n",
    "import numpy as np\n",
    "import numpy \n",
    "from matplotlib import pyplot as plt\n",
    "import os\n",
    "from sklearn.model_selection import train_test_split\n",
    "from sklearn.metrics import mean_squared_error\n",
    "from sklearn.preprocessing import RobustScaler\n",
    "from sklearn.neighbors import KNeighborsRegressor"
   ]
  },
  {
   "cell_type": "code",
   "execution_count": 4,
   "metadata": {},
   "outputs": [],
   "source": [
    "os.chdir('/Users/Edward/Documents/LandPermitAnalysis/data/')"
   ]
  },
  {
   "cell_type": "code",
   "execution_count": 5,
   "metadata": {},
   "outputs": [
    {
     "data": {
      "text/html": [
       "<div>\n",
       "<style scoped>\n",
       "    .dataframe tbody tr th:only-of-type {\n",
       "        vertical-align: middle;\n",
       "    }\n",
       "\n",
       "    .dataframe tbody tr th {\n",
       "        vertical-align: top;\n",
       "    }\n",
       "\n",
       "    .dataframe thead th {\n",
       "        text-align: right;\n",
       "    }\n",
       "</style>\n",
       "<table border=\"1\" class=\"dataframe\">\n",
       "  <thead>\n",
       "    <tr style=\"text-align: right;\">\n",
       "      <th></th>\n",
       "      <th>PermitNum</th>\n",
       "      <th>PermitClass</th>\n",
       "      <th>PermitClassMapped</th>\n",
       "      <th>PermitTypeMapped</th>\n",
       "      <th>PermitTypeDesc</th>\n",
       "      <th>Description</th>\n",
       "      <th>HousingUnits</th>\n",
       "      <th>HousingUnitsRemoved</th>\n",
       "      <th>HousingUnitsAdded</th>\n",
       "      <th>EstProjectCost</th>\n",
       "      <th>...</th>\n",
       "      <th>RelatedRecord</th>\n",
       "      <th>OriginalAddress1</th>\n",
       "      <th>OriginalCity</th>\n",
       "      <th>OriginalState</th>\n",
       "      <th>OriginalZip</th>\n",
       "      <th>ContractorCompanyName</th>\n",
       "      <th>Link</th>\n",
       "      <th>Latitude</th>\n",
       "      <th>Longitude</th>\n",
       "      <th>Location 1</th>\n",
       "    </tr>\n",
       "  </thead>\n",
       "  <tbody>\n",
       "    <tr>\n",
       "      <th>0</th>\n",
       "      <td>3027306-LU</td>\n",
       "      <td>Commercial</td>\n",
       "      <td>Non-Residential</td>\n",
       "      <td>Master Use Permit</td>\n",
       "      <td>NaN</td>\n",
       "      <td>[EDG Pre-sub] landlord work to modify and upgr...</td>\n",
       "      <td>NaN</td>\n",
       "      <td>NaN</td>\n",
       "      <td>NaN</td>\n",
       "      <td>NaN</td>\n",
       "      <td>...</td>\n",
       "      <td>NaN</td>\n",
       "      <td>1512 5TH AVE</td>\n",
       "      <td>SEATTLE</td>\n",
       "      <td>WA</td>\n",
       "      <td>98101.0</td>\n",
       "      <td>NaN</td>\n",
       "      <td>https://cosaccela.seattle.gov/portal/customize...</td>\n",
       "      <td>47.611197</td>\n",
       "      <td>-122.335822</td>\n",
       "      <td>1512 5TH AVE\\nSEATTLE, WA 98101\\n(47.61119722,...</td>\n",
       "    </tr>\n",
       "    <tr>\n",
       "      <th>1</th>\n",
       "      <td>3003127-LU</td>\n",
       "      <td>Multifamily</td>\n",
       "      <td>Residential</td>\n",
       "      <td>Master Use Permit</td>\n",
       "      <td>NaN</td>\n",
       "      <td>CANCELLED - DECISION EXPIRED 12/28/09 JH.  Lan...</td>\n",
       "      <td>NaN</td>\n",
       "      <td>2.0</td>\n",
       "      <td>8.0</td>\n",
       "      <td>NaN</td>\n",
       "      <td>...</td>\n",
       "      <td>NaN</td>\n",
       "      <td>619 13TH AVE E</td>\n",
       "      <td>SEATTLE</td>\n",
       "      <td>WA</td>\n",
       "      <td>98102.0</td>\n",
       "      <td>NaN</td>\n",
       "      <td>https://cosaccela.seattle.gov/portal/customize...</td>\n",
       "      <td>47.624775</td>\n",
       "      <td>-122.315974</td>\n",
       "      <td>619 13TH AVE E\\nSEATTLE, WA 98102\\n(47.6247753...</td>\n",
       "    </tr>\n",
       "    <tr>\n",
       "      <th>2</th>\n",
       "      <td>3016564-LU</td>\n",
       "      <td>Multifamily</td>\n",
       "      <td>Residential</td>\n",
       "      <td>Master Use Permit</td>\n",
       "      <td>NaN</td>\n",
       "      <td>Land Use Application to subdivide one developm...</td>\n",
       "      <td>NaN</td>\n",
       "      <td>NaN</td>\n",
       "      <td>NaN</td>\n",
       "      <td>NaN</td>\n",
       "      <td>...</td>\n",
       "      <td>NaN</td>\n",
       "      <td>3626 36TH AVE S</td>\n",
       "      <td>SEATTLE</td>\n",
       "      <td>WA</td>\n",
       "      <td>98144.0</td>\n",
       "      <td>NaN</td>\n",
       "      <td>https://cosaccela.seattle.gov/portal/customize...</td>\n",
       "      <td>47.570692</td>\n",
       "      <td>-122.287919</td>\n",
       "      <td>3626 36TH AVE S\\nSEATTLE, WA 98144\\n(47.570692...</td>\n",
       "    </tr>\n",
       "    <tr>\n",
       "      <th>3</th>\n",
       "      <td>3028041-LU</td>\n",
       "      <td>Multifamily</td>\n",
       "      <td>Residential</td>\n",
       "      <td>Master Use Permit</td>\n",
       "      <td>NaN</td>\n",
       "      <td>Land Use Application to subdivide one developm...</td>\n",
       "      <td>NaN</td>\n",
       "      <td>NaN</td>\n",
       "      <td>NaN</td>\n",
       "      <td>NaN</td>\n",
       "      <td>...</td>\n",
       "      <td>NaN</td>\n",
       "      <td>804 25TH AVE S</td>\n",
       "      <td>SEATTLE</td>\n",
       "      <td>WA</td>\n",
       "      <td>98144.0</td>\n",
       "      <td>NaN</td>\n",
       "      <td>https://cosaccela.seattle.gov/portal/customize...</td>\n",
       "      <td>47.595260</td>\n",
       "      <td>-122.299926</td>\n",
       "      <td>804 25TH AVE S\\nSEATTLE, WA 98144\\n(47.5952602...</td>\n",
       "    </tr>\n",
       "    <tr>\n",
       "      <th>4</th>\n",
       "      <td>3004979-LU</td>\n",
       "      <td>Single Family/Duplex</td>\n",
       "      <td>Residential</td>\n",
       "      <td>Master Use Permit</td>\n",
       "      <td>NaN</td>\n",
       "      <td>Shoreline substantial development to allow a t...</td>\n",
       "      <td>NaN</td>\n",
       "      <td>0.0</td>\n",
       "      <td>0.0</td>\n",
       "      <td>NaN</td>\n",
       "      <td>...</td>\n",
       "      <td>NaN</td>\n",
       "      <td>2727 FAIRVIEW AVE E</td>\n",
       "      <td>SEATTLE</td>\n",
       "      <td>WA</td>\n",
       "      <td>98102.0</td>\n",
       "      <td>NaN</td>\n",
       "      <td>https://cosaccela.seattle.gov/portal/customize...</td>\n",
       "      <td>47.644955</td>\n",
       "      <td>-122.328186</td>\n",
       "      <td>2727 FAIRVIEW AVE E\\nSEATTLE, WA 98102\\n(47.64...</td>\n",
       "    </tr>\n",
       "  </tbody>\n",
       "</table>\n",
       "<p>5 rows × 25 columns</p>\n",
       "</div>"
      ],
      "text/plain": [
       "    PermitNum           PermitClass PermitClassMapped   PermitTypeMapped  \\\n",
       "0  3027306-LU            Commercial   Non-Residential  Master Use Permit   \n",
       "1  3003127-LU           Multifamily       Residential  Master Use Permit   \n",
       "2  3016564-LU           Multifamily       Residential  Master Use Permit   \n",
       "3  3028041-LU           Multifamily       Residential  Master Use Permit   \n",
       "4  3004979-LU  Single Family/Duplex       Residential  Master Use Permit   \n",
       "\n",
       "  PermitTypeDesc                                        Description  \\\n",
       "0            NaN  [EDG Pre-sub] landlord work to modify and upgr...   \n",
       "1            NaN  CANCELLED - DECISION EXPIRED 12/28/09 JH.  Lan...   \n",
       "2            NaN  Land Use Application to subdivide one developm...   \n",
       "3            NaN  Land Use Application to subdivide one developm...   \n",
       "4            NaN  Shoreline substantial development to allow a t...   \n",
       "\n",
       "   HousingUnits  HousingUnitsRemoved  HousingUnitsAdded  EstProjectCost  ...  \\\n",
       "0           NaN                  NaN                NaN             NaN  ...   \n",
       "1           NaN                  2.0                8.0             NaN  ...   \n",
       "2           NaN                  NaN                NaN             NaN  ...   \n",
       "3           NaN                  NaN                NaN             NaN  ...   \n",
       "4           NaN                  0.0                0.0             NaN  ...   \n",
       "\n",
       "  RelatedRecord     OriginalAddress1 OriginalCity OriginalState OriginalZip  \\\n",
       "0           NaN         1512 5TH AVE      SEATTLE            WA     98101.0   \n",
       "1           NaN       619 13TH AVE E      SEATTLE            WA     98102.0   \n",
       "2           NaN      3626 36TH AVE S      SEATTLE            WA     98144.0   \n",
       "3           NaN       804 25TH AVE S      SEATTLE            WA     98144.0   \n",
       "4           NaN  2727 FAIRVIEW AVE E      SEATTLE            WA     98102.0   \n",
       "\n",
       "   ContractorCompanyName                                               Link  \\\n",
       "0                    NaN  https://cosaccela.seattle.gov/portal/customize...   \n",
       "1                    NaN  https://cosaccela.seattle.gov/portal/customize...   \n",
       "2                    NaN  https://cosaccela.seattle.gov/portal/customize...   \n",
       "3                    NaN  https://cosaccela.seattle.gov/portal/customize...   \n",
       "4                    NaN  https://cosaccela.seattle.gov/portal/customize...   \n",
       "\n",
       "    Latitude   Longitude                                         Location 1  \n",
       "0  47.611197 -122.335822  1512 5TH AVE\\nSEATTLE, WA 98101\\n(47.61119722,...  \n",
       "1  47.624775 -122.315974  619 13TH AVE E\\nSEATTLE, WA 98102\\n(47.6247753...  \n",
       "2  47.570692 -122.287919  3626 36TH AVE S\\nSEATTLE, WA 98144\\n(47.570692...  \n",
       "3  47.595260 -122.299926  804 25TH AVE S\\nSEATTLE, WA 98144\\n(47.5952602...  \n",
       "4  47.644955 -122.328186  2727 FAIRVIEW AVE E\\nSEATTLE, WA 98102\\n(47.64...  \n",
       "\n",
       "[5 rows x 25 columns]"
      ]
     },
     "execution_count": 5,
     "metadata": {},
     "output_type": "execute_result"
    }
   ],
   "source": [
    "data = pd.read_csv('Land_Use_Permits.csv')\n",
    "data.head(5)"
   ]
  },
  {
   "cell_type": "code",
   "execution_count": 7,
   "metadata": {
    "scrolled": false
   },
   "outputs": [],
   "source": [
    "subset = data[['PermitNum', 'Latitude', 'Longitude', 'OriginalZip', 'EstProjectCost', 'PermitClass', 'StatusCurrent']].copy()"
   ]
  },
  {
   "cell_type": "code",
   "execution_count": 94,
   "metadata": {},
   "outputs": [],
   "source": [
    "PermitID = []\n",
    "for row in subset['PermitNum']:\n",
    "    temp = row[0:7]\n",
    "    PermitID.append(temp)\n",
    "    \n",
    "subset['PermitNum'] = PermitID"
   ]
  },
  {
   "cell_type": "code",
   "execution_count": null,
   "metadata": {},
   "outputs": [],
   "source": []
  },
  {
   "cell_type": "code",
   "execution_count": 7,
   "metadata": {},
   "outputs": [],
   "source": [
    "PermitClassID = []\n",
    "for item in subset.PermitClass:\n",
    "    if item == 'Commercial':\n",
    "        PermitClassID.append(1)\n",
    "    elif item == 'Multifamily':\n",
    "        PermitClassID.append(2)\n",
    "    elif item == 'Single Family/Duplex':\n",
    "        PermitClassID.append(3)\n",
    "    elif item == 'Institutional':\n",
    "        PermitClassID.append(4)\n",
    "    elif item == 'Vacant Land':\n",
    "        PermitClassID.append(5)\n",
    "    elif item == 'Industrial':\n",
    "        PermitClassID.append(6)\n",
    "    else:\n",
    "        PermitClassID.append('')\n",
    "        \n",
    "subset['PermitClass'] = PermitClassID"
   ]
  },
  {
   "cell_type": "code",
   "execution_count": 8,
   "metadata": {},
   "outputs": [],
   "source": [
    "Status = []\n",
    "for item in subset.StatusCurrent:\n",
    "    if item == 'Canceled':\n",
    "        Status.append(1)\n",
    "    elif item == 'Additional Info Requested':\n",
    "        Status.append(2)\n",
    "    else: \n",
    "        Status.append(3)\n",
    "\n",
    "subset['StatusCurrent'] = Status"
   ]
  },
  {
   "cell_type": "code",
   "execution_count": 6,
   "metadata": {},
   "outputs": [
    {
     "ename": "NameError",
     "evalue": "name 'subset' is not defined",
     "output_type": "error",
     "traceback": [
      "\u001b[0;31m----------------------------------------------------------------------\u001b[0m",
      "\u001b[0;31mNameError\u001b[0m                            Traceback (most recent call last)",
      "\u001b[0;32m<ipython-input-6-499ea86ebe7a>\u001b[0m in \u001b[0;36m<module>\u001b[0;34m\u001b[0m\n\u001b[1;32m      1\u001b[0m \u001b[0mtarget_name\u001b[0m \u001b[0;34m=\u001b[0m \u001b[0;34m'PermitClass'\u001b[0m\u001b[0;34m\u001b[0m\u001b[0;34m\u001b[0m\u001b[0m\n\u001b[1;32m      2\u001b[0m \u001b[0mrobust_scaler\u001b[0m \u001b[0;34m=\u001b[0m \u001b[0mRobustScaler\u001b[0m\u001b[0;34m(\u001b[0m\u001b[0;34m)\u001b[0m\u001b[0;34m\u001b[0m\u001b[0;34m\u001b[0m\u001b[0m\n\u001b[0;32m----> 3\u001b[0;31m \u001b[0mX\u001b[0m \u001b[0;34m=\u001b[0m \u001b[0msubset\u001b[0m\u001b[0;34m.\u001b[0m\u001b[0mdrop\u001b[0m\u001b[0;34m(\u001b[0m\u001b[0;34m'PermitClass'\u001b[0m\u001b[0;34m,\u001b[0m \u001b[0maxis\u001b[0m \u001b[0;34m=\u001b[0m \u001b[0;36m1\u001b[0m\u001b[0;34m)\u001b[0m\u001b[0;34m\u001b[0m\u001b[0;34m\u001b[0m\u001b[0m\n\u001b[0m\u001b[1;32m      4\u001b[0m \u001b[0mfeature_names\u001b[0m \u001b[0;34m=\u001b[0m \u001b[0mX\u001b[0m\u001b[0;34m.\u001b[0m\u001b[0mcolumns\u001b[0m\u001b[0;34m\u001b[0m\u001b[0;34m\u001b[0m\u001b[0m\n\u001b[1;32m      5\u001b[0m \u001b[0mX\u001b[0m \u001b[0;34m=\u001b[0m \u001b[0mrobust_scaler\u001b[0m\u001b[0;34m.\u001b[0m\u001b[0mfit_transform\u001b[0m\u001b[0;34m(\u001b[0m\u001b[0mX\u001b[0m\u001b[0;34m)\u001b[0m\u001b[0;34m\u001b[0m\u001b[0;34m\u001b[0m\u001b[0m\n",
      "\u001b[0;31mNameError\u001b[0m: name 'subset' is not defined"
     ]
    }
   ],
   "source": [
    "target_name = 'PermitClass'\n",
    "robust_scaler = RobustScaler()\n",
    "X = subset.drop('PermitClass', axis = 1)\n",
    "feature_names = X.columns\n",
    "X = robust_scaler.fit_transform(X)\n",
    "y = subset[target_name]\n",
    "X_train, X_test, y_train, y_test = train_test_split(X, y, test_size = 0.2, random_state = 55)"
   ]
  },
  {
   "cell_type": "code",
   "execution_count": 10,
   "metadata": {},
   "outputs": [],
   "source": [
    "models = pd.DataFrame(index = ['train_mse', 'test_mse'], columns = ['KNN', 'Bagging', 'RandomForest', 'Boosting'])"
   ]
  },
  {
   "cell_type": "code",
   "execution_count": 11,
   "metadata": {},
   "outputs": [],
   "source": [
    "knn = KNeighborsRegressor(n_neighbors = 20, weights = 'distance', metric = 'euclidean', n_jobs = -1)"
   ]
  },
  {
   "cell_type": "code",
   "execution_count": 12,
   "metadata": {},
   "outputs": [],
   "source": [
    "np.asarray(y_train)\n",
    "np.asarray(X_train)\n",
    "np.asarray(X_test)\n",
    "np.asarray(y_test)\n",
    "\n",
    "isNan_X_test = pd.isnull(X_test)\n",
    "isNan_y_test = pd.isnull(y_test)\n",
    "isNan_X_train = pd.isnull(X_train)\n",
    "isNan_y_train = pd.isnull(y_train)\n",
    "\n",
    "X_train[isNan_X_train]=0\n",
    "y_train[isNan_y_train]=0\n",
    "X_test[isNan_X_test]=0\n",
    "y_test[isNan_y_test]=0\n"
   ]
  },
  {
   "cell_type": "code",
   "execution_count": 13,
   "metadata": {
    "scrolled": true
   },
   "outputs": [
    {
     "data": {
      "text/plain": [
       "KNeighborsRegressor(algorithm='auto', leaf_size=30, metric='euclidean',\n",
       "          metric_params=None, n_jobs=-1, n_neighbors=20, p=2,\n",
       "          weights='distance')"
      ]
     },
     "execution_count": 13,
     "metadata": {},
     "output_type": "execute_result"
    }
   ],
   "source": [
    "knn.fit(X_train, y_train)"
   ]
  },
  {
   "cell_type": "code",
   "execution_count": 14,
   "metadata": {
    "collapsed": true
   },
   "outputs": [
    {
     "ename": "TypeError",
     "evalue": "can't multiply sequence by non-int of type 'float'",
     "output_type": "error",
     "traceback": [
      "\u001b[0;31m----------------------------------------------------------------------\u001b[0m",
      "\u001b[0;31mTypeError\u001b[0m                            Traceback (most recent call last)",
      "\u001b[0;32m<ipython-input-14-4f10a45d2e15>\u001b[0m in \u001b[0;36m<module>\u001b[0;34m\u001b[0m\n\u001b[0;32m----> 1\u001b[0;31m \u001b[0mmodels\u001b[0m\u001b[0;34m.\u001b[0m\u001b[0mloc\u001b[0m\u001b[0;34m[\u001b[0m\u001b[0;34m'train_mse'\u001b[0m\u001b[0;34m,\u001b[0m\u001b[0;34m'KNN'\u001b[0m\u001b[0;34m]\u001b[0m \u001b[0;34m=\u001b[0m \u001b[0mmean_squared_error\u001b[0m\u001b[0;34m(\u001b[0m\u001b[0my_pred\u001b[0m\u001b[0;34m=\u001b[0m\u001b[0mknn\u001b[0m\u001b[0;34m.\u001b[0m\u001b[0mpredict\u001b[0m\u001b[0;34m(\u001b[0m\u001b[0mX_train\u001b[0m\u001b[0;34m)\u001b[0m\u001b[0;34m,\u001b[0m \u001b[0my_true\u001b[0m\u001b[0;34m=\u001b[0m\u001b[0my_train\u001b[0m\u001b[0;34m)\u001b[0m\u001b[0;34m\u001b[0m\u001b[0;34m\u001b[0m\u001b[0m\n\u001b[0m",
      "\u001b[0;32m/anaconda3/envs/SpatialData_py3/lib/python3.6/site-packages/sklearn/neighbors/regression.py\u001b[0m in \u001b[0;36mpredict\u001b[0;34m(self, X)\u001b[0m\n\u001b[1;32m    170\u001b[0m \u001b[0;34m\u001b[0m\u001b[0m\n\u001b[1;32m    171\u001b[0m             \u001b[0;32mfor\u001b[0m \u001b[0mj\u001b[0m \u001b[0;32min\u001b[0m \u001b[0mrange\u001b[0m\u001b[0;34m(\u001b[0m\u001b[0m_y\u001b[0m\u001b[0;34m.\u001b[0m\u001b[0mshape\u001b[0m\u001b[0;34m[\u001b[0m\u001b[0;36m1\u001b[0m\u001b[0;34m]\u001b[0m\u001b[0;34m)\u001b[0m\u001b[0;34m:\u001b[0m\u001b[0;34m\u001b[0m\u001b[0;34m\u001b[0m\u001b[0m\n\u001b[0;32m--> 172\u001b[0;31m                 \u001b[0mnum\u001b[0m \u001b[0;34m=\u001b[0m \u001b[0mnp\u001b[0m\u001b[0;34m.\u001b[0m\u001b[0msum\u001b[0m\u001b[0;34m(\u001b[0m\u001b[0m_y\u001b[0m\u001b[0;34m[\u001b[0m\u001b[0mneigh_ind\u001b[0m\u001b[0;34m,\u001b[0m \u001b[0mj\u001b[0m\u001b[0;34m]\u001b[0m \u001b[0;34m*\u001b[0m \u001b[0mweights\u001b[0m\u001b[0;34m,\u001b[0m \u001b[0maxis\u001b[0m\u001b[0;34m=\u001b[0m\u001b[0;36m1\u001b[0m\u001b[0;34m)\u001b[0m\u001b[0;34m\u001b[0m\u001b[0;34m\u001b[0m\u001b[0m\n\u001b[0m\u001b[1;32m    173\u001b[0m                 \u001b[0my_pred\u001b[0m\u001b[0;34m[\u001b[0m\u001b[0;34m:\u001b[0m\u001b[0;34m,\u001b[0m \u001b[0mj\u001b[0m\u001b[0;34m]\u001b[0m \u001b[0;34m=\u001b[0m \u001b[0mnum\u001b[0m \u001b[0;34m/\u001b[0m \u001b[0mdenom\u001b[0m\u001b[0;34m\u001b[0m\u001b[0;34m\u001b[0m\u001b[0m\n\u001b[1;32m    174\u001b[0m \u001b[0;34m\u001b[0m\u001b[0m\n",
      "\u001b[0;31mTypeError\u001b[0m: can't multiply sequence by non-int of type 'float'"
     ]
    }
   ],
   "source": [
    "models.loc['train_mse','KNN'] = mean_squared_error(y_pred=knn.predict(X_train), y_true=y_train)"
   ]
  },
  {
   "cell_type": "code",
   "execution_count": 34,
   "metadata": {
    "collapsed": true
   },
   "outputs": [
    {
     "ename": "TypeError",
     "evalue": "can't multiply sequence by non-int of type 'float'",
     "output_type": "error",
     "traceback": [
      "\u001b[0;31m----------------------------------------------------------------------\u001b[0m",
      "\u001b[0;31mTypeError\u001b[0m                            Traceback (most recent call last)",
      "\u001b[0;32m<ipython-input-34-ef9d796b00c9>\u001b[0m in \u001b[0;36m<module>\u001b[0;34m\u001b[0m\n\u001b[0;32m----> 1\u001b[0;31m \u001b[0mmodels\u001b[0m\u001b[0;34m.\u001b[0m\u001b[0mloc\u001b[0m\u001b[0;34m[\u001b[0m\u001b[0;34m'test_mse'\u001b[0m\u001b[0;34m,\u001b[0m\u001b[0;34m'KNN'\u001b[0m\u001b[0;34m]\u001b[0m \u001b[0;34m=\u001b[0m \u001b[0mmean_squared_error\u001b[0m\u001b[0;34m(\u001b[0m\u001b[0my_pred\u001b[0m\u001b[0;34m=\u001b[0m\u001b[0mknn\u001b[0m\u001b[0;34m.\u001b[0m\u001b[0mpredict\u001b[0m\u001b[0;34m(\u001b[0m\u001b[0mX_test\u001b[0m\u001b[0;34m)\u001b[0m\u001b[0;34m,\u001b[0m \u001b[0my_true\u001b[0m\u001b[0;34m=\u001b[0m\u001b[0my_test\u001b[0m\u001b[0;34m)\u001b[0m\u001b[0;34m\u001b[0m\u001b[0;34m\u001b[0m\u001b[0m\n\u001b[0m",
      "\u001b[0;32m/anaconda3/envs/SpatialData_py3/lib/python3.6/site-packages/sklearn/neighbors/regression.py\u001b[0m in \u001b[0;36mpredict\u001b[0;34m(self, X)\u001b[0m\n\u001b[1;32m    170\u001b[0m \u001b[0;34m\u001b[0m\u001b[0m\n\u001b[1;32m    171\u001b[0m             \u001b[0;32mfor\u001b[0m \u001b[0mj\u001b[0m \u001b[0;32min\u001b[0m \u001b[0mrange\u001b[0m\u001b[0;34m(\u001b[0m\u001b[0m_y\u001b[0m\u001b[0;34m.\u001b[0m\u001b[0mshape\u001b[0m\u001b[0;34m[\u001b[0m\u001b[0;36m1\u001b[0m\u001b[0;34m]\u001b[0m\u001b[0;34m)\u001b[0m\u001b[0;34m:\u001b[0m\u001b[0;34m\u001b[0m\u001b[0;34m\u001b[0m\u001b[0m\n\u001b[0;32m--> 172\u001b[0;31m                 \u001b[0mnum\u001b[0m \u001b[0;34m=\u001b[0m \u001b[0mnp\u001b[0m\u001b[0;34m.\u001b[0m\u001b[0msum\u001b[0m\u001b[0;34m(\u001b[0m\u001b[0m_y\u001b[0m\u001b[0;34m[\u001b[0m\u001b[0mneigh_ind\u001b[0m\u001b[0;34m,\u001b[0m \u001b[0mj\u001b[0m\u001b[0;34m]\u001b[0m \u001b[0;34m*\u001b[0m \u001b[0mweights\u001b[0m\u001b[0;34m,\u001b[0m \u001b[0maxis\u001b[0m\u001b[0;34m=\u001b[0m\u001b[0;36m1\u001b[0m\u001b[0;34m)\u001b[0m\u001b[0;34m\u001b[0m\u001b[0;34m\u001b[0m\u001b[0m\n\u001b[0m\u001b[1;32m    173\u001b[0m                 \u001b[0my_pred\u001b[0m\u001b[0;34m[\u001b[0m\u001b[0;34m:\u001b[0m\u001b[0;34m,\u001b[0m \u001b[0mj\u001b[0m\u001b[0;34m]\u001b[0m \u001b[0;34m=\u001b[0m \u001b[0mnum\u001b[0m \u001b[0;34m/\u001b[0m \u001b[0mdenom\u001b[0m\u001b[0;34m\u001b[0m\u001b[0;34m\u001b[0m\u001b[0m\n\u001b[1;32m    174\u001b[0m \u001b[0;34m\u001b[0m\u001b[0m\n",
      "\u001b[0;31mTypeError\u001b[0m: can't multiply sequence by non-int of type 'float'"
     ]
    }
   ],
   "source": [
    "models.loc['test_mse','KNN'] = mean_squared_error(y_pred=knn.predict(X_test), y_true=y_test)"
   ]
  },
  {
   "cell_type": "code",
   "execution_count": null,
   "metadata": {},
   "outputs": [],
   "source": []
  },
  {
   "cell_type": "code",
   "execution_count": 7,
   "metadata": {},
   "outputs": [],
   "source": [
    "data_x = data.PermitClass.replace(np.nan, 'unknow', regex=True)"
   ]
  },
  {
   "cell_type": "code",
   "execution_count": 8,
   "metadata": {},
   "outputs": [],
   "source": [
    "Commercial = 0\n",
    "Multifamily = 0\n",
    "SingleFamily = 0\n",
    "Unknown = 0\n",
    "Institutional = 0 \n",
    "VacantLand = 0\n",
    "Industrial = 0\n",
    "\n",
    "for item in data_x:\n",
    "    if item == 'Commercial':\n",
    "        Commercial += 1\n",
    "    elif item == 'Multifamily':\n",
    "        Multifamily += 1\n",
    "    elif item == 'Single Family/Duplex':\n",
    "        SingleFamily += 1\n",
    "    elif item == 'unknow':\n",
    "        Unknown += 1\n",
    "    elif item == 'Institutional':\n",
    "        Institutional += 1\n",
    "    elif item == 'Vacant Land':\n",
    "        VacantLand += 1\n",
    "    else:\n",
    "        Industrial += 1\n",
    "\n",
    "x = ['Commercial', 'Multifamily', 'Single Family', 'Unknown', 'Institutional', 'Vacant Land', 'Industrial']\n",
    "y = [Commercial, Multifamily, SingleFamily, Unknown, Institutional, VacantLand, Industrial]"
   ]
  },
  {
   "cell_type": "code",
   "execution_count": 10,
   "metadata": {
    "scrolled": false
   },
   "outputs": [
    {
     "data": {
      "image/png": "[encoded data removed]",
      "text/plain": [
       "<Figure size 720x720 with 1 Axes>"
      ]
     },
     "metadata": {
      "needs_background": "light"
     },
     "output_type": "display_data"
    }
   ],
   "source": [
    "plt.bar(x,y, align='center', alpha=0.5)\n",
    "plt.rcParams[\"figure.figsize\"] =[10,10]\n",
    "plt.title(\"Permit Number and Permit Classes\")\n",
    "plt.xlabel(\"Permit Class\")\n",
    "plt.ylabel(\"Permit Number\")\n",
    "plt.autoscale(tight=True)\n",
    "plt.grid()\n",
    "plt.show()"
   ]
  },
  {
   "cell_type": "code",
   "execution_count": 64,
   "metadata": {},
   "outputs": [],
   "source": [
    "district=geopandas.read_file('Council_Districts/Council_Districts.shp')"
   ]
  },
  {
   "cell_type": "code",
   "execution_count": 20,
   "metadata": {},
   "outputs": [
    {
     "data": {
      "text/plain": [
       "{'init': 'epsg:4326'}"
      ]
     },
     "execution_count": 20,
     "metadata": {},
     "output_type": "execute_result"
    }
   ],
   "source": [
    "district.crs"
   ]
  },
  {
   "cell_type": "code",
   "execution_count": 23,
   "metadata": {},
   "outputs": [],
   "source": [
    "district = district.to_crs({'init': 'epsg:3395'})"
   ]
  },
  {
   "cell_type": "code",
   "execution_count": 27,
   "metadata": {
    "collapsed": true
   },
   "outputs": [
    {
     "data": {
      "image/png": "[encoded data removed]",
      "text/plain": [
       "<Figure size 432x288 with 1 Axes>"
      ]
     },
     "metadata": {
      "needs_background": "light"
     },
     "output_type": "display_data"
    }
   ],
   "source": [
    "ax = district.plot()\n",
    "ax.set_title(\"WGS84 (lat/lon)\");"
   ]
  },
  {
   "cell_type": "code",
   "execution_count": null,
   "metadata": {},
   "outputs": [],
   "source": [
    "knn = KNeighborsRegressor*(n_neighbors = 20, weight = 'distance', metric = 'euclidean', n_jobs = -1)"
   ]
  }
 ],
 "metadata": {
  "kernelspec": {
   "display_name": "Python 3",
   "language": "python",
   "name": "python3"
  },
  "language_info": {
   "codemirror_mode": {
    "name": "ipython",
    "version": 3
   },
   "file_extension": ".py",
   "mimetype": "text/x-python",
   "name": "python",
   "nbconvert_exporter": "python",
   "pygments_lexer": "ipython3",
   "version": "3.6.8"
  }
 },
 "nbformat": 4,
 "nbformat_minor": 2
}
